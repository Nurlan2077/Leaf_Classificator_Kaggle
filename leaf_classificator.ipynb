{
 "cells": [
  {
   "cell_type": "code",
   "execution_count": 352,
   "id": "736966f8",
   "metadata": {},
   "outputs": [],
   "source": [
    "from __future__ import print_function, division\n",
    "\n",
    "import torch\n",
    "import torch.nn as nn\n",
    "import torch.optim as optim\n",
    "from torch.optim import lr_scheduler\n",
    "import torch.backends.cudnn as cudnn\n",
    "import numpy as np\n",
    "import torchvision\n",
    "from torchvision import datasets, models, transforms\n",
    "import matplotlib.pyplot as plt\n",
    "import time\n",
    "import os\n",
    "import copy\n",
    "import pandas as pd\n",
    "import shutil\n",
    "from sklearn.model_selection import train_test_split\n",
    "import seaborn as sns\n",
    "from PIL import Image\n",
    "from sklearn.preprocessing import MinMaxScaler"
   ]
  },
  {
   "cell_type": "code",
   "execution_count": 195,
   "id": "71b2dffe",
   "metadata": {},
   "outputs": [],
   "source": [
    "data_dir = 'data/'\n",
    "images_dir = data_dir + \"images\"\n",
    "train_images_dir = data_dir + \"train\"\n",
    "val_images_dir = data_dir + \"val\"\n",
    "test_images_dir = data_dir + \"test\""
   ]
  },
  {
   "cell_type": "code",
   "execution_count": 163,
   "id": "fa3eeb6c",
   "metadata": {},
   "outputs": [],
   "source": [
    "np.random.seed(0)"
   ]
  },
  {
   "cell_type": "code",
   "execution_count": 164,
   "id": "4f73a7ff",
   "metadata": {},
   "outputs": [],
   "source": [
    "all_raw_train_data = pd.read_csv(data_dir + \"train.csv\")\n",
    "\n",
    "msk = np.random.rand(len(all_raw_train_data)) < 0.7\n",
    "\n",
    "train_data = all_raw_train_data[msk]\n",
    "val_data = all_raw_train_data[~msk]"
   ]
  },
  {
   "cell_type": "code",
   "execution_count": 165,
   "id": "e5be57a5",
   "metadata": {},
   "outputs": [],
   "source": [
    "# Создает папки для классов по выборке.\n",
    "def create_class_folder(df_data, source_dir: str, dest_dir: str):\n",
    "    for data_id, data_class in zip(df_data.id, df_data.species):\n",
    "        try:\n",
    "            shutil.copyfile(\"/\".join((source_dir, str(data_id) + \".jpg\")), \n",
    "                        \"/\".join((dest_dir, data_class, str(data_id) + \".jpg\")))\n",
    "        except FileNotFoundError:\n",
    "            os.mkdir(\"/\".join((dest_dir, data_class)))"
   ]
  },
  {
   "cell_type": "code",
   "execution_count": 166,
   "id": "ae217a3b",
   "metadata": {},
   "outputs": [],
   "source": [
    "# Создает папки для классов для обуч-выборки\n",
    "create_class_folder(train_data, images_dir, train_images_dir)"
   ]
  },
  {
   "cell_type": "code",
   "execution_count": 167,
   "id": "da3b1f2b",
   "metadata": {},
   "outputs": [],
   "source": [
    "# Создает папки для классов для вал-выборки.\n",
    "create_class_folder(val_data, images_dir, val_images_dir)"
   ]
  },
  {
   "cell_type": "code",
   "execution_count": 193,
   "id": "4c4fb3f0",
   "metadata": {},
   "outputs": [],
   "source": [
    "val_transforms = transforms.Compose([\n",
    "        transforms.Resize(256),\n",
    "        transforms.CenterCrop(224),\n",
    "        transforms.ToTensor(),\n",
    "        transforms.Normalize([0.485, 0.456, 0.406], [0.229, 0.224, 0.225])\n",
    "    ])\n",
    "\n",
    "data_transforms = {\n",
    "    'train': transforms.Compose([\n",
    "        transforms.RandomResizedCrop(224),\n",
    "        transforms.RandomHorizontalFlip(),\n",
    "        transforms.ToTensor(),\n",
    "        transforms.Normalize([0.485, 0.456, 0.406], [0.229, 0.224, 0.225])\n",
    "    ]),\n",
    "    'val': val_transforms,\n",
    "}\n",
    "\n",
    "\n",
    "image_datasets = {x: datasets.ImageFolder(os.path.join(data_dir, x),\n",
    "                                          data_transforms[x])\n",
    "                  for x in ['train', 'val']}\n",
    "\n",
    "dataloaders = {x: torch.utils.data.DataLoader(image_datasets[x], batch_size=4,\n",
    "                                             shuffle=True, num_workers=4)\n",
    "              for x in ['train', 'val']}\n",
    "\n",
    "dataset_sizes = {x: len(image_datasets[x]) for x in ['train', 'val']}\n",
    "\n",
    "class_names = image_datasets['train'].classes\n",
    "\n",
    "device = torch.device(\"cuda:0\" if torch.cuda.is_available() else \"cpu\")"
   ]
  },
  {
   "cell_type": "code",
   "execution_count": null,
   "id": "5a60e74a",
   "metadata": {},
   "outputs": [],
   "source": []
  },
  {
   "cell_type": "code",
   "execution_count": 214,
   "id": "3571fdda",
   "metadata": {},
   "outputs": [
    {
     "data": {
      "image/png": "[encoded data removed]",
      "text/plain": [
       "<Figure size 432x288 with 1 Axes>"
      ]
     },
     "metadata": {
      "needs_background": "light"
     },
     "output_type": "display_data"
    },
    {
     "data": {
      "text/plain": [
       "torch.Size([4, 3, 224, 224])"
      ]
     },
     "execution_count": 214,
     "metadata": {},
     "output_type": "execute_result"
    }
   ],
   "source": [
    "def imshow(inp, title=None):\n",
    "    inp = inp.numpy().transpose((1, 2, 0))\n",
    "    mean = np.array([0.485, 0.456, 0.406])\n",
    "    std = np.array([0.229, 0.224, 0.225])\n",
    "    inp = std * inp + mean\n",
    "    inp = np.clip(inp, 0, 1)\n",
    "    plt.imshow(inp)\n",
    "    if title is not None:\n",
    "        plt.title(title)\n",
    "    plt.pause(0.001)\n",
    "\n",
    "\n",
    "inputs, classes = next(iter(dataloaders['train']))\n",
    "\n",
    "out = torchvision.utils.make_grid(inputs)\n",
    "\n",
    "imshow(out, title=[class_names[x] for x in classes])\n",
    "\n",
    "inputs.shape"
   ]
  },
  {
   "cell_type": "code",
   "execution_count": 170,
   "id": "99536ddf",
   "metadata": {},
   "outputs": [],
   "source": [
    "def train_model(model, criterion, optimizer, scheduler, num_epochs=25):\n",
    "    since = time.time()\n",
    "\n",
    "    best_model_wts = copy.deepcopy(model.state_dict())\n",
    "    best_acc = 0.0\n",
    "\n",
    "    for epoch in range(num_epochs):\n",
    "        print(f'Epoch {epoch}/{num_epochs - 1}')\n",
    "        print('-' * 10)\n",
    "\n",
    "        for phase in ['train', 'val']:\n",
    "            if phase == 'train':\n",
    "                model.train()  \n",
    "            else:\n",
    "                model.eval()\n",
    "\n",
    "            running_loss = 0.0\n",
    "            running_corrects = 0\n",
    "\n",
    "            # По всем данным.\n",
    "            for inputs, labels in dataloaders[phase]:\n",
    "                inputs = inputs.to(device)\n",
    "                labels = labels.to(device)\n",
    "\n",
    "                optimizer.zero_grad()\n",
    "\n",
    "                with torch.set_grad_enabled(phase == 'train'):\n",
    "                    outputs = model(inputs)\n",
    "                    _, preds = torch.max(outputs, 1)\n",
    "                    loss = criterion(outputs, labels)\n",
    "\n",
    "                    if phase == 'train':\n",
    "                        loss.backward()\n",
    "                        optimizer.step()\n",
    "\n",
    "                # Статистика\n",
    "                running_loss += loss.item() * inputs.size(0)\n",
    "                running_corrects += torch.sum(preds == labels.data)\n",
    "            if phase == 'train':\n",
    "                scheduler.step()\n",
    "\n",
    "            epoch_loss = running_loss / dataset_sizes[phase]\n",
    "            epoch_acc = running_corrects.double() / dataset_sizes[phase]\n",
    "\n",
    "            print(f'{phase} Loss: {epoch_loss:.4f} Acc: {epoch_acc:.4f}')\n",
    "\n",
    "            if phase == 'val' and epoch_acc > best_acc:\n",
    "                best_acc = epoch_acc\n",
    "                best_model_wts = copy.deepcopy(model.state_dict())\n",
    "\n",
    "        print()\n",
    "\n",
    "    time_elapsed = time.time() - since\n",
    "    print(f'Training complete in {time_elapsed // 60:.0f}m {time_elapsed % 60:.0f}s')\n",
    "    print(f'Best val Acc: {best_acc:4f}')\n",
    "\n",
    "    model.load_state_dict(best_model_wts)\n",
    "    return model"
   ]
  },
  {
   "cell_type": "code",
   "execution_count": 171,
   "id": "b8b27865",
   "metadata": {},
   "outputs": [],
   "source": [
    "def visualize_model(model, num_images=6):\n",
    "    was_training = model.training\n",
    "    model.eval()\n",
    "    images_so_far = 0\n",
    "    fig = plt.figure()\n",
    "\n",
    "    with torch.no_grad():\n",
    "        for i, (inputs, labels) in enumerate(dataloaders['val']):\n",
    "            inputs = inputs.to(device)\n",
    "            labels = labels.to(device)\n",
    "\n",
    "            outputs = model(inputs)\n",
    "            _, preds = torch.max(outputs, 1)\n",
    "\n",
    "            for j in range(inputs.size()[0]):\n",
    "                images_so_far += 1\n",
    "                ax = plt.subplot(num_images//2, 2, images_so_far)\n",
    "                ax.axis('off')\n",
    "                ax.set_title(f'predicted: {class_names[preds[j]]}')\n",
    "                imshow(inputs.cpu().data[j])\n",
    "\n",
    "                if images_so_far == num_images:\n",
    "                    model.train(mode=was_training)\n",
    "                    return\n",
    "        model.train(mode=was_training)"
   ]
  },
  {
   "cell_type": "code",
   "execution_count": 184,
   "id": "f117993d",
   "metadata": {},
   "outputs": [],
   "source": [
    "model_ft = models.resnet18(pretrained=True)\n",
    "num_ftrs = model_ft.fc.in_features\n",
    "model_ft.fc = nn.Linear(num_ftrs, len(class_names))\n",
    "\n",
    "model_ft = model_ft.to(device)\n",
    "\n",
    "criterion = nn.CrossEntropyLoss()\n",
    "\n",
    "# Оптимизируются все параметры\n",
    "optimizer_ft = optim.SGD(model_ft.parameters(), lr=0.001, momentum=0.9)\n",
    "\n",
    "# Уменьшение скорости обучения на каждом 7 шаге\n",
    "exp_lr_scheduler = lr_scheduler.StepLR(optimizer_ft, step_size=7, gamma=0.1)"
   ]
  },
  {
   "cell_type": "code",
   "execution_count": 185,
   "id": "208c3ece",
   "metadata": {},
   "outputs": [
    {
     "name": "stdout",
     "output_type": "stream",
     "text": [
      "Epoch 0/24\n",
      "----------\n",
      "train Loss: 4.5484 Acc: 0.0315\n",
      "val Loss: 3.6063 Acc: 0.1447\n",
      "\n",
      "Epoch 1/24\n",
      "----------\n",
      "train Loss: 3.8153 Acc: 0.0976\n",
      "val Loss: 2.4452 Acc: 0.2766\n",
      "\n",
      "Epoch 2/24\n",
      "----------\n",
      "train Loss: 3.3389 Acc: 0.1710\n",
      "val Loss: 1.8610 Acc: 0.4799\n",
      "\n",
      "Epoch 3/24\n",
      "----------\n",
      "train Loss: 3.0392 Acc: 0.2141\n",
      "val Loss: 1.7734 Acc: 0.4945\n",
      "\n",
      "Epoch 4/24\n",
      "----------\n",
      "train Loss: 2.8106 Acc: 0.2655\n",
      "val Loss: 1.5951 Acc: 0.4725\n",
      "\n",
      "Epoch 5/24\n",
      "----------\n",
      "train Loss: 2.6602 Acc: 0.2865\n",
      "val Loss: 1.5728 Acc: 0.4689\n",
      "\n",
      "Epoch 6/24\n",
      "----------\n",
      "train Loss: 2.5009 Acc: 0.3106\n",
      "val Loss: 1.3326 Acc: 0.5568\n",
      "\n",
      "Epoch 7/24\n",
      "----------\n",
      "train Loss: 2.2506 Acc: 0.3987\n",
      "val Loss: 1.0099 Acc: 0.6612\n",
      "\n",
      "Epoch 8/24\n",
      "----------\n",
      "train Loss: 2.1318 Acc: 0.4397\n",
      "val Loss: 0.9088 Acc: 0.7143\n",
      "\n",
      "Epoch 9/24\n",
      "----------\n",
      "train Loss: 2.0579 Acc: 0.4491\n",
      "val Loss: 0.9250 Acc: 0.6923\n",
      "\n",
      "Epoch 10/24\n",
      "----------\n",
      "train Loss: 2.0422 Acc: 0.4533\n",
      "val Loss: 0.9316 Acc: 0.7051\n",
      "\n",
      "Epoch 11/24\n",
      "----------\n",
      "train Loss: 1.9742 Acc: 0.4858\n",
      "val Loss: 0.8584 Acc: 0.7344\n",
      "\n",
      "Epoch 12/24\n",
      "----------\n",
      "train Loss: 1.9832 Acc: 0.4533\n",
      "val Loss: 0.8540 Acc: 0.7198\n",
      "\n",
      "Epoch 13/24\n",
      "----------\n",
      "train Loss: 1.9191 Acc: 0.4921\n",
      "val Loss: 0.8656 Acc: 0.7198\n",
      "\n",
      "Epoch 14/24\n",
      "----------\n",
      "train Loss: 1.9349 Acc: 0.4984\n",
      "val Loss: 0.8169 Acc: 0.7344\n",
      "\n",
      "Epoch 15/24\n",
      "----------\n",
      "train Loss: 1.9287 Acc: 0.4953\n",
      "val Loss: 0.8415 Acc: 0.7216\n",
      "\n",
      "Epoch 16/24\n",
      "----------\n",
      "train Loss: 1.8983 Acc: 0.4995\n",
      "val Loss: 0.8312 Acc: 0.7344\n",
      "\n",
      "Epoch 17/24\n",
      "----------\n",
      "train Loss: 1.8401 Acc: 0.5299\n",
      "val Loss: 0.7848 Acc: 0.7582\n",
      "\n",
      "Epoch 18/24\n",
      "----------\n",
      "train Loss: 1.9216 Acc: 0.5037\n",
      "val Loss: 0.8336 Acc: 0.7271\n",
      "\n",
      "Epoch 19/24\n",
      "----------\n",
      "train Loss: 1.9001 Acc: 0.5005\n",
      "val Loss: 0.8120 Acc: 0.7308\n",
      "\n",
      "Epoch 20/24\n",
      "----------\n",
      "train Loss: 1.8935 Acc: 0.5005\n",
      "val Loss: 0.8242 Acc: 0.7436\n",
      "\n",
      "Epoch 21/24\n",
      "----------\n",
      "train Loss: 1.8543 Acc: 0.5247\n",
      "val Loss: 0.7815 Acc: 0.7473\n",
      "\n",
      "Epoch 22/24\n",
      "----------\n",
      "train Loss: 1.9328 Acc: 0.4911\n",
      "val Loss: 0.8025 Acc: 0.7436\n",
      "\n",
      "Epoch 23/24\n",
      "----------\n",
      "train Loss: 1.8759 Acc: 0.5184\n",
      "val Loss: 0.7753 Acc: 0.7491\n",
      "\n",
      "Epoch 24/24\n",
      "----------\n",
      "train Loss: 1.8984 Acc: 0.5205\n",
      "val Loss: 0.8330 Acc: 0.7271\n",
      "\n",
      "Training complete in 30m 35s\n",
      "Best val Acc: 0.758242\n"
     ]
    }
   ],
   "source": [
    "model_ft = train_model(model_ft, criterion, optimizer_ft, exp_lr_scheduler,\n",
    "                       num_epochs=25)"
   ]
  },
  {
   "cell_type": "code",
   "execution_count": null,
   "id": "92264a49",
   "metadata": {},
   "outputs": [],
   "source": []
  },
  {
   "cell_type": "code",
   "execution_count": 186,
   "id": "8caf0805",
   "metadata": {},
   "outputs": [
    {
     "data": {
      "image/png": "[encoded data removed]",
      "text/plain": [
       "<Figure size 432x288 with 1 Axes>"
      ]
     },
     "metadata": {
      "needs_background": "light"
     },
     "output_type": "display_data"
    },
    {
     "data": {
      "image/png": "[encoded data removed]",
      "text/plain": [
       "<Figure size 432x288 with 1 Axes>"
      ]
     },
     "metadata": {
      "needs_background": "light"
     },
     "output_type": "display_data"
    },
    {
     "data": {
      "image/png": "[encoded data removed]",
      "text/plain": [
       "<Figure size 432x288 with 1 Axes>"
      ]
     },
     "metadata": {
      "needs_background": "light"
     },
     "output_type": "display_data"
    },
    {
     "data": {
      "image/png": "[encoded data removed]",
      "text/plain": [
       "<Figure size 432x288 with 1 Axes>"
      ]
     },
     "metadata": {
      "needs_background": "light"
     },
     "output_type": "display_data"
    },
    {
     "data": {
      "image/png": "[encoded data removed]",
      "text/plain": [
       "<Figure size 432x288 with 1 Axes>"
      ]
     },
     "metadata": {
      "needs_background": "light"
     },
     "output_type": "display_data"
    },
    {
     "data": {
      "image/png": "[encoded data removed]",
      "text/plain": [
       "<Figure size 432x288 with 1 Axes>"
      ]
     },
     "metadata": {
      "needs_background": "light"
     },
     "output_type": "display_data"
    }
   ],
   "source": [
    "visualize_model(model_ft)"
   ]
  },
  {
   "cell_type": "code",
   "execution_count": null,
   "id": "b0c73a6b",
   "metadata": {},
   "outputs": [],
   "source": []
  },
  {
   "cell_type": "markdown",
   "id": "a4d9f1d1",
   "metadata": {},
   "source": [
    "## Меняются параметры только финального слоя"
   ]
  },
  {
   "cell_type": "code",
   "execution_count": 187,
   "id": "21cf2d68",
   "metadata": {},
   "outputs": [
    {
     "name": "stderr",
     "output_type": "stream",
     "text": [
      "/Library/Frameworks/Python.framework/Versions/3.7/lib/python3.7/site-packages/torchvision/models/_utils.py:209: UserWarning: The parameter 'pretrained' is deprecated since 0.13 and will be removed in 0.15, please use 'weights' instead.\n",
      "  f\"The parameter '{pretrained_param}' is deprecated since 0.13 and will be removed in 0.15, \"\n",
      "/Library/Frameworks/Python.framework/Versions/3.7/lib/python3.7/site-packages/torchvision/models/_utils.py:223: UserWarning: Arguments other than a weight enum or `None` for 'weights' are deprecated since 0.13 and will be removed in 0.15. The current behavior is equivalent to passing `weights=ResNet18_Weights.IMAGENET1K_V1`. You can also use `weights=ResNet18_Weights.DEFAULT` to get the most up-to-date weights.\n",
      "  warnings.warn(msg)\n"
     ]
    }
   ],
   "source": [
    "model_conv = torchvision.models.resnet18(pretrained=True)\n",
    "for param in model_conv.parameters():\n",
    "    param.requires_grad = False\n",
    "\n",
    "num_ftrs = model_conv.fc.in_features\n",
    "model_conv.fc = nn.Linear(num_ftrs, len(class_names))\n",
    "\n",
    "model_conv = model_conv.to(device)\n",
    "\n",
    "criterion = nn.CrossEntropyLoss()\n",
    "\n",
    "# Оптимизируется только последний слой\n",
    "optimizer_conv = optim.SGD(model_conv.fc.parameters(), lr=0.001, momentum=0.9)\n",
    "\n",
    "exp_lr_scheduler = lr_scheduler.StepLR(optimizer_conv, step_size=7, gamma=0.1)"
   ]
  },
  {
   "cell_type": "code",
   "execution_count": 188,
   "id": "48bc33d1",
   "metadata": {},
   "outputs": [
    {
     "name": "stdout",
     "output_type": "stream",
     "text": [
      "Epoch 0/24\n",
      "----------\n",
      "train Loss: 4.7472 Acc: 0.0210\n",
      "val Loss: 4.1050 Acc: 0.0989\n",
      "\n",
      "Epoch 1/24\n",
      "----------\n",
      "train Loss: 4.3957 Acc: 0.0409\n",
      "val Loss: 3.4600 Acc: 0.1410\n",
      "\n",
      "Epoch 2/24\n",
      "----------\n",
      "train Loss: 4.1145 Acc: 0.0714\n",
      "val Loss: 2.9078 Acc: 0.2875\n",
      "\n",
      "Epoch 3/24\n",
      "----------\n",
      "train Loss: 3.9310 Acc: 0.1049\n",
      "val Loss: 2.5593 Acc: 0.3297\n",
      "\n",
      "Epoch 4/24\n",
      "----------\n",
      "train Loss: 3.7662 Acc: 0.1196\n",
      "val Loss: 2.2986 Acc: 0.3736\n",
      "\n",
      "Epoch 5/24\n",
      "----------\n",
      "train Loss: 3.5767 Acc: 0.1427\n",
      "val Loss: 2.1377 Acc: 0.3810\n",
      "\n",
      "Epoch 6/24\n",
      "----------\n",
      "train Loss: 3.4781 Acc: 0.1668\n",
      "val Loss: 1.9712 Acc: 0.4341\n",
      "\n",
      "Epoch 7/24\n",
      "----------\n",
      "train Loss: 3.2453 Acc: 0.2361\n",
      "val Loss: 1.7239 Acc: 0.5513\n",
      "\n",
      "Epoch 8/24\n",
      "----------\n",
      "train Loss: 3.1668 Acc: 0.2613\n",
      "val Loss: 1.6991 Acc: 0.5897\n",
      "\n",
      "Epoch 9/24\n",
      "----------\n",
      "train Loss: 3.1562 Acc: 0.3043\n",
      "val Loss: 1.6610 Acc: 0.5879\n",
      "\n",
      "Epoch 10/24\n",
      "----------\n",
      "train Loss: 3.0809 Acc: 0.3116\n",
      "val Loss: 1.5919 Acc: 0.6062\n",
      "\n",
      "Epoch 11/24\n",
      "----------\n",
      "train Loss: 3.0944 Acc: 0.2865\n",
      "val Loss: 1.6075 Acc: 0.6319\n",
      "\n",
      "Epoch 12/24\n",
      "----------\n",
      "train Loss: 3.0623 Acc: 0.3075\n",
      "val Loss: 1.6083 Acc: 0.6245\n",
      "\n",
      "Epoch 13/24\n",
      "----------\n",
      "train Loss: 3.0928 Acc: 0.2959\n",
      "val Loss: 1.5766 Acc: 0.6062\n",
      "\n",
      "Epoch 14/24\n",
      "----------\n",
      "train Loss: 3.0581 Acc: 0.3263\n",
      "val Loss: 1.5700 Acc: 0.6227\n",
      "\n",
      "Epoch 15/24\n",
      "----------\n",
      "train Loss: 3.0554 Acc: 0.3221\n",
      "val Loss: 1.6649 Acc: 0.5842\n",
      "\n",
      "Epoch 16/24\n",
      "----------\n",
      "train Loss: 3.0306 Acc: 0.3379\n",
      "val Loss: 1.5163 Acc: 0.6484\n",
      "\n",
      "Epoch 17/24\n",
      "----------\n",
      "train Loss: 3.0423 Acc: 0.3410\n",
      "val Loss: 1.5516 Acc: 0.6374\n",
      "\n",
      "Epoch 18/24\n",
      "----------\n",
      "train Loss: 3.1169 Acc: 0.2980\n",
      "val Loss: 1.5559 Acc: 0.6264\n",
      "\n",
      "Epoch 19/24\n",
      "----------\n",
      "train Loss: 3.0530 Acc: 0.3179\n",
      "val Loss: 1.5836 Acc: 0.6300\n",
      "\n",
      "Epoch 20/24\n",
      "----------\n",
      "train Loss: 3.0617 Acc: 0.3137\n",
      "val Loss: 1.6128 Acc: 0.6190\n",
      "\n",
      "Epoch 21/24\n",
      "----------\n",
      "train Loss: 3.0462 Acc: 0.3200\n",
      "val Loss: 1.5730 Acc: 0.6044\n",
      "\n",
      "Epoch 22/24\n",
      "----------\n",
      "train Loss: 3.0311 Acc: 0.3211\n",
      "val Loss: 1.5775 Acc: 0.6264\n",
      "\n",
      "Epoch 23/24\n",
      "----------\n",
      "train Loss: 3.1230 Acc: 0.3106\n",
      "val Loss: 1.5521 Acc: 0.6282\n",
      "\n",
      "Epoch 24/24\n",
      "----------\n",
      "train Loss: 3.0525 Acc: 0.3232\n",
      "val Loss: 1.5505 Acc: 0.6190\n",
      "\n",
      "Training complete in 16m 19s\n",
      "Best val Acc: 0.648352\n"
     ]
    }
   ],
   "source": [
    "model_conv = train_model(model_conv, criterion, optimizer_conv,\n",
    "                         exp_lr_scheduler, num_epochs=25)"
   ]
  },
  {
   "cell_type": "code",
   "execution_count": 189,
   "id": "b642a70d",
   "metadata": {},
   "outputs": [
    {
     "data": {
      "image/png": "[encoded data removed]",
      "text/plain": [
       "<Figure size 432x288 with 1 Axes>"
      ]
     },
     "metadata": {
      "needs_background": "light"
     },
     "output_type": "display_data"
    },
    {
     "data": {
      "image/png": "[encoded data removed]",
      "text/plain": [
       "<Figure size 432x288 with 1 Axes>"
      ]
     },
     "metadata": {
      "needs_background": "light"
     },
     "output_type": "display_data"
    },
    {
     "data": {
      "image/png": "[encoded data removed]",
      "text/plain": [
       "<Figure size 432x288 with 1 Axes>"
      ]
     },
     "metadata": {
      "needs_background": "light"
     },
     "output_type": "display_data"
    },
    {
     "data": {
      "image/png": "[encoded data removed]",
      "text/plain": [
       "<Figure size 432x288 with 1 Axes>"
      ]
     },
     "metadata": {
      "needs_background": "light"
     },
     "output_type": "display_data"
    },
    {
     "data": {
      "image/png": "[encoded data removed]",
      "text/plain": [
       "<Figure size 432x288 with 1 Axes>"
      ]
     },
     "metadata": {
      "needs_background": "light"
     },
     "output_type": "display_data"
    },
    {
     "data": {
      "image/png": "[encoded data removed]",
      "text/plain": [
       "<Figure size 432x288 with 1 Axes>"
      ]
     },
     "metadata": {
      "needs_background": "light"
     },
     "output_type": "display_data"
    }
   ],
   "source": [
    "visualize_model(model_conv)\n",
    "\n",
    "plt.ioff()\n",
    "plt.show()"
   ]
  },
  {
   "cell_type": "code",
   "execution_count": 208,
   "id": "89a56232",
   "metadata": {},
   "outputs": [
    {
     "data": {
      "text/plain": [
       "(383, 594)"
      ]
     },
     "execution_count": 208,
     "metadata": {},
     "output_type": "execute_result"
    }
   ],
   "source": []
  },
  {
   "cell_type": "code",
   "execution_count": 270,
   "id": "dee21b35",
   "metadata": {},
   "outputs": [
    {
     "data": {
      "text/plain": [
       "torch.Size([1, 3, 224, 224])"
      ]
     },
     "execution_count": 270,
     "metadata": {},
     "output_type": "execute_result"
    }
   ],
   "source": [
    "image1 = Image.open(test_images_dir + \"/4.jpg\")\n",
    "image1.size\n",
    "\n",
    "test_transforms = transforms.Compose([\n",
    "        transforms.Resize(256),\n",
    "        transforms.CenterCrop(224),\n",
    "        transforms.ToTensor(),\n",
    "        transforms.Normalize([0.485, 0.456, 0.406], [0.229, 0.224, 0.225])\n",
    "    ])\n",
    "\n",
    "image1 = image1.convert(mode='RGB')\n",
    "image1 = test_transforms(image1)\n",
    "image1 = image1.unsqueeze(0)\n",
    "image1.shape"
   ]
  },
  {
   "cell_type": "code",
   "execution_count": 389,
   "id": "a0c91c2b",
   "metadata": {
    "scrolled": true
   },
   "outputs": [],
   "source": [
    "output1 = model_conv(image1)\n",
    "_, preds = torch.max(output1, 1)"
   ]
  },
  {
   "cell_type": "code",
   "execution_count": 371,
   "id": "d6a09f72",
   "metadata": {},
   "outputs": [
    {
     "data": {
      "text/plain": [
       "tensor([[0.2232, 0.0654, 0.2110, 0.9776, 0.0173, 0.1235, 0.8528, 0.2368, 0.3636,\n",
       "         0.3070, 0.9503, 0.0944, 0.9224, 0.0800, 0.8754, 0.0082, 0.1398, 0.6230,\n",
       "         0.0604, 0.4423, 0.5883, 0.4712, 0.1390, 0.5636, 0.0880, 0.4985, 0.2109,\n",
       "         0.9085, 0.0248, 0.1566, 0.2180, 0.6055, 0.8575, 0.7718, 0.5026, 0.0450,\n",
       "         0.9583, 0.2399, 0.1059, 0.2746, 0.3472, 0.2748, 0.3945, 0.1099, 0.4460,\n",
       "         0.9977, 0.9975, 0.0715, 0.0898, 0.0088, 0.7170, 0.9998, 0.9964, 0.5467,\n",
       "         0.8453, 0.3842, 0.5548, 0.0520, 0.9508, 0.7222, 0.6632, 0.7150, 0.9937,\n",
       "         0.5221, 0.9959, 0.5861, 0.9090, 0.2404, 0.5131, 0.1933, 0.3605, 0.1434,\n",
       "         0.0127, 0.8098, 0.5512, 0.9101, 0.0375, 0.0514, 0.1894, 0.9985, 0.5719,\n",
       "         0.8987, 0.5043, 0.9998, 0.2244, 0.0651, 0.4060, 0.1199, 0.0304, 0.0070,\n",
       "         0.0181, 0.9406, 0.9275, 0.6722, 0.9514, 0.0500, 0.9779, 0.2459, 0.1259]],\n",
       "       grad_fn=<SigmoidBackward0>)"
      ]
     },
     "execution_count": 371,
     "metadata": {},
     "output_type": "execute_result"
    }
   ],
   "source": [
    "m = nn.Sigmoid()\n",
    "meh = m(output1)\n",
    "meh"
   ]
  },
  {
   "cell_type": "code",
   "execution_count": null,
   "id": "1df9f9da",
   "metadata": {},
   "outputs": [],
   "source": []
  },
  {
   "cell_type": "code",
   "execution_count": 373,
   "id": "3ea5dfc0",
   "metadata": {},
   "outputs": [],
   "source": [
    "raw_test_data = pd.read_csv(data_dir + \"test.csv\")"
   ]
  },
  {
   "cell_type": "code",
   "execution_count": 382,
   "id": "5a4d5c6f",
   "metadata": {},
   "outputs": [
    {
     "data": {
      "text/html": [
       "<div>\n",
       "<style scoped>\n",
       "    .dataframe tbody tr th:only-of-type {\n",
       "        vertical-align: middle;\n",
       "    }\n",
       "\n",
       "    .dataframe tbody tr th {\n",
       "        vertical-align: top;\n",
       "    }\n",
       "\n",
       "    .dataframe thead th {\n",
       "        text-align: right;\n",
       "    }\n",
       "</style>\n",
       "<table border=\"1\" class=\"dataframe\">\n",
       "  <thead>\n",
       "    <tr style=\"text-align: right;\">\n",
       "      <th></th>\n",
       "      <th>id</th>\n",
       "      <th>Acer_Capillipes</th>\n",
       "      <th>Acer_Circinatum</th>\n",
       "      <th>Acer_Mono</th>\n",
       "      <th>Acer_Opalus</th>\n",
       "      <th>Acer_Palmatum</th>\n",
       "      <th>Acer_Pictum</th>\n",
       "      <th>Acer_Platanoids</th>\n",
       "      <th>Acer_Rubrum</th>\n",
       "      <th>Acer_Rufinerve</th>\n",
       "      <th>...</th>\n",
       "      <th>Salix_Fragilis</th>\n",
       "      <th>Salix_Intergra</th>\n",
       "      <th>Sorbus_Aria</th>\n",
       "      <th>Tilia_Oliveri</th>\n",
       "      <th>Tilia_Platyphyllos</th>\n",
       "      <th>Tilia_Tomentosa</th>\n",
       "      <th>Ulmus_Bergmanniana</th>\n",
       "      <th>Viburnum_Tinus</th>\n",
       "      <th>Viburnum_x_Rhytidophylloides</th>\n",
       "      <th>Zelkova_Serrata</th>\n",
       "    </tr>\n",
       "  </thead>\n",
       "  <tbody>\n",
       "  </tbody>\n",
       "</table>\n",
       "<p>0 rows × 100 columns</p>\n",
       "</div>"
      ],
      "text/plain": [
       "Empty DataFrame\n",
       "Columns: [id, Acer_Capillipes, Acer_Circinatum, Acer_Mono, Acer_Opalus, Acer_Palmatum, Acer_Pictum, Acer_Platanoids, Acer_Rubrum, Acer_Rufinerve, Acer_Saccharinum, Alnus_Cordata, Alnus_Maximowiczii, Alnus_Rubra, Alnus_Sieboldiana, Alnus_Viridis, Arundinaria_Simonii, Betula_Austrosinensis, Betula_Pendula, Callicarpa_Bodinieri, Castanea_Sativa, Celtis_Koraiensis, Cercis_Siliquastrum, Cornus_Chinensis, Cornus_Controversa, Cornus_Macrophylla, Cotinus_Coggygria, Crataegus_Monogyna, Cytisus_Battandieri, Eucalyptus_Glaucescens, Eucalyptus_Neglecta, Eucalyptus_Urnigera, Fagus_Sylvatica, Ginkgo_Biloba, Ilex_Aquifolium, Ilex_Cornuta, Liquidambar_Styraciflua, Liriodendron_Tulipifera, Lithocarpus_Cleistocarpus, Lithocarpus_Edulis, Magnolia_Heptapeta, Magnolia_Salicifolia, Morus_Nigra, Olea_Europaea, Phildelphus, Populus_Adenopoda, Populus_Grandidentata, Populus_Nigra, Prunus_Avium, Prunus_X_Shmittii, Pterocarya_Stenoptera, Quercus_Afares, Quercus_Agrifolia, Quercus_Alnifolia, Quercus_Brantii, Quercus_Canariensis, Quercus_Castaneifolia, Quercus_Cerris, Quercus_Chrysolepis, Quercus_Coccifera, Quercus_Coccinea, Quercus_Crassifolia, Quercus_Crassipes, Quercus_Dolicholepis, Quercus_Ellipsoidalis, Quercus_Greggii, Quercus_Hartwissiana, Quercus_Ilex, Quercus_Imbricaria, Quercus_Infectoria_sub, Quercus_Kewensis, Quercus_Nigra, Quercus_Palustris, Quercus_Phellos, Quercus_Phillyraeoides, Quercus_Pontica, Quercus_Pubescens, Quercus_Pyrenaica, Quercus_Rhysophylla, Quercus_Rubra, Quercus_Semecarpifolia, Quercus_Shumardii, Quercus_Suber, Quercus_Texana, Quercus_Trojana, Quercus_Variabilis, Quercus_Vulcanica, Quercus_x_Hispanica, Quercus_x_Turneri, Rhododendron_x_Russellianum, Salix_Fragilis, Salix_Intergra, Sorbus_Aria, Tilia_Oliveri, Tilia_Platyphyllos, Tilia_Tomentosa, Ulmus_Bergmanniana, Viburnum_Tinus, Viburnum_x_Rhytidophylloides, Zelkova_Serrata]\n",
       "Index: []\n",
       "\n",
       "[0 rows x 100 columns]"
      ]
     },
     "execution_count": 382,
     "metadata": {},
     "output_type": "execute_result"
    }
   ],
   "source": [
    "test_data_result = pd.DataFrame(columns=[\"id\", *class_names])\n",
    "test_data_result"
   ]
  },
  {
   "cell_type": "code",
   "execution_count": 383,
   "id": "d6b2e959",
   "metadata": {},
   "outputs": [],
   "source": [
    "sigmoid_func = nn.Sigmoid()"
   ]
  },
  {
   "cell_type": "code",
   "execution_count": 384,
   "id": "2360e372",
   "metadata": {},
   "outputs": [],
   "source": [
    "for idx in raw_test_data.id:\n",
    "    test_image = Image.open(\"/\".join((images_dir, str(idx) + \".jpg\")))\n",
    "    \n",
    "    test_image = test_image.convert(mode='RGB')\n",
    "    test_image = test_transforms(test_image)\n",
    "    test_image = test_image.unsqueeze(0)\n",
    "    \n",
    "    test_output = model_ft(test_image)\n",
    "    \n",
    "    test_output = sigmoid_func(test_output)\n",
    "    test_output = test_output.flatten(0)\n",
    "\n",
    "    test_output = test_output.tolist()\n",
    "    \n",
    "    temp_dict = dict(zip(class_names, test_output))\n",
    "    temp_dict[\"id\"] = idx\n",
    "            \n",
    "    test_data_result.loc[len(test_data_result)] = temp_dict\n"
   ]
  },
  {
   "cell_type": "code",
   "execution_count": 385,
   "id": "2c27e45f",
   "metadata": {
    "scrolled": true
   },
   "outputs": [
    {
     "data": {
      "text/html": [
       "<div>\n",
       "<style scoped>\n",
       "    .dataframe tbody tr th:only-of-type {\n",
       "        vertical-align: middle;\n",
       "    }\n",
       "\n",
       "    .dataframe tbody tr th {\n",
       "        vertical-align: top;\n",
       "    }\n",
       "\n",
       "    .dataframe thead th {\n",
       "        text-align: right;\n",
       "    }\n",
       "</style>\n",
       "<table border=\"1\" class=\"dataframe\">\n",
       "  <thead>\n",
       "    <tr style=\"text-align: right;\">\n",
       "      <th></th>\n",
       "      <th>id</th>\n",
       "      <th>Acer_Capillipes</th>\n",
       "      <th>Acer_Circinatum</th>\n",
       "      <th>Acer_Mono</th>\n",
       "      <th>Acer_Opalus</th>\n",
       "      <th>Acer_Palmatum</th>\n",
       "      <th>Acer_Pictum</th>\n",
       "      <th>Acer_Platanoids</th>\n",
       "      <th>Acer_Rubrum</th>\n",
       "      <th>Acer_Rufinerve</th>\n",
       "      <th>...</th>\n",
       "      <th>Salix_Fragilis</th>\n",
       "      <th>Salix_Intergra</th>\n",
       "      <th>Sorbus_Aria</th>\n",
       "      <th>Tilia_Oliveri</th>\n",
       "      <th>Tilia_Platyphyllos</th>\n",
       "      <th>Tilia_Tomentosa</th>\n",
       "      <th>Ulmus_Bergmanniana</th>\n",
       "      <th>Viburnum_Tinus</th>\n",
       "      <th>Viburnum_x_Rhytidophylloides</th>\n",
       "      <th>Zelkova_Serrata</th>\n",
       "    </tr>\n",
       "  </thead>\n",
       "  <tbody>\n",
       "    <tr>\n",
       "      <th>0</th>\n",
       "      <td>4</td>\n",
       "      <td>0.021394</td>\n",
       "      <td>0.011951</td>\n",
       "      <td>0.133309</td>\n",
       "      <td>0.925576</td>\n",
       "      <td>0.000989</td>\n",
       "      <td>0.370268</td>\n",
       "      <td>0.927834</td>\n",
       "      <td>0.073189</td>\n",
       "      <td>1.388106e-01</td>\n",
       "      <td>...</td>\n",
       "      <td>0.025810</td>\n",
       "      <td>0.014751</td>\n",
       "      <td>0.825354</td>\n",
       "      <td>0.905679</td>\n",
       "      <td>0.297463</td>\n",
       "      <td>0.889775</td>\n",
       "      <td>0.009878</td>\n",
       "      <td>0.998824</td>\n",
       "      <td>0.341652</td>\n",
       "      <td>0.024547</td>\n",
       "    </tr>\n",
       "    <tr>\n",
       "      <th>1</th>\n",
       "      <td>7</td>\n",
       "      <td>0.026123</td>\n",
       "      <td>0.013471</td>\n",
       "      <td>0.017680</td>\n",
       "      <td>0.103798</td>\n",
       "      <td>0.000657</td>\n",
       "      <td>0.052147</td>\n",
       "      <td>0.465320</td>\n",
       "      <td>0.024965</td>\n",
       "      <td>4.619213e-04</td>\n",
       "      <td>...</td>\n",
       "      <td>0.921566</td>\n",
       "      <td>0.189817</td>\n",
       "      <td>0.007977</td>\n",
       "      <td>0.996198</td>\n",
       "      <td>0.052929</td>\n",
       "      <td>0.766085</td>\n",
       "      <td>0.035153</td>\n",
       "      <td>0.004729</td>\n",
       "      <td>0.478574</td>\n",
       "      <td>0.566700</td>\n",
       "    </tr>\n",
       "    <tr>\n",
       "      <th>2</th>\n",
       "      <td>9</td>\n",
       "      <td>0.913394</td>\n",
       "      <td>1.000000</td>\n",
       "      <td>0.985224</td>\n",
       "      <td>0.999938</td>\n",
       "      <td>0.999960</td>\n",
       "      <td>0.969351</td>\n",
       "      <td>0.997422</td>\n",
       "      <td>0.999959</td>\n",
       "      <td>9.826868e-01</td>\n",
       "      <td>...</td>\n",
       "      <td>0.008985</td>\n",
       "      <td>0.013719</td>\n",
       "      <td>0.124661</td>\n",
       "      <td>0.970723</td>\n",
       "      <td>0.946263</td>\n",
       "      <td>0.949334</td>\n",
       "      <td>0.893054</td>\n",
       "      <td>0.084624</td>\n",
       "      <td>0.817635</td>\n",
       "      <td>0.989174</td>\n",
       "    </tr>\n",
       "    <tr>\n",
       "      <th>3</th>\n",
       "      <td>12</td>\n",
       "      <td>0.084251</td>\n",
       "      <td>0.033851</td>\n",
       "      <td>0.000048</td>\n",
       "      <td>0.002745</td>\n",
       "      <td>0.035738</td>\n",
       "      <td>0.560388</td>\n",
       "      <td>0.968002</td>\n",
       "      <td>0.048814</td>\n",
       "      <td>4.784122e-07</td>\n",
       "      <td>...</td>\n",
       "      <td>0.309879</td>\n",
       "      <td>0.004343</td>\n",
       "      <td>0.009258</td>\n",
       "      <td>0.998955</td>\n",
       "      <td>0.798102</td>\n",
       "      <td>0.998869</td>\n",
       "      <td>0.060318</td>\n",
       "      <td>0.032805</td>\n",
       "      <td>0.413761</td>\n",
       "      <td>0.995035</td>\n",
       "    </tr>\n",
       "    <tr>\n",
       "      <th>4</th>\n",
       "      <td>13</td>\n",
       "      <td>0.626413</td>\n",
       "      <td>0.326001</td>\n",
       "      <td>0.059360</td>\n",
       "      <td>0.013565</td>\n",
       "      <td>0.337366</td>\n",
       "      <td>0.004972</td>\n",
       "      <td>0.013888</td>\n",
       "      <td>0.001217</td>\n",
       "      <td>9.993711e-01</td>\n",
       "      <td>...</td>\n",
       "      <td>0.017621</td>\n",
       "      <td>0.580464</td>\n",
       "      <td>0.961475</td>\n",
       "      <td>0.997081</td>\n",
       "      <td>0.938750</td>\n",
       "      <td>0.997674</td>\n",
       "      <td>0.999228</td>\n",
       "      <td>0.744971</td>\n",
       "      <td>0.080359</td>\n",
       "      <td>0.057815</td>\n",
       "    </tr>\n",
       "    <tr>\n",
       "      <th>...</th>\n",
       "      <td>...</td>\n",
       "      <td>...</td>\n",
       "      <td>...</td>\n",
       "      <td>...</td>\n",
       "      <td>...</td>\n",
       "      <td>...</td>\n",
       "      <td>...</td>\n",
       "      <td>...</td>\n",
       "      <td>...</td>\n",
       "      <td>...</td>\n",
       "      <td>...</td>\n",
       "      <td>...</td>\n",
       "      <td>...</td>\n",
       "      <td>...</td>\n",
       "      <td>...</td>\n",
       "      <td>...</td>\n",
       "      <td>...</td>\n",
       "      <td>...</td>\n",
       "      <td>...</td>\n",
       "      <td>...</td>\n",
       "      <td>...</td>\n",
       "    </tr>\n",
       "    <tr>\n",
       "      <th>589</th>\n",
       "      <td>1576</td>\n",
       "      <td>0.853371</td>\n",
       "      <td>1.000000</td>\n",
       "      <td>0.975610</td>\n",
       "      <td>0.999582</td>\n",
       "      <td>0.999989</td>\n",
       "      <td>0.983592</td>\n",
       "      <td>0.987956</td>\n",
       "      <td>0.999804</td>\n",
       "      <td>8.761317e-01</td>\n",
       "      <td>...</td>\n",
       "      <td>0.067113</td>\n",
       "      <td>0.039488</td>\n",
       "      <td>0.045939</td>\n",
       "      <td>0.921866</td>\n",
       "      <td>0.842517</td>\n",
       "      <td>0.829602</td>\n",
       "      <td>0.767605</td>\n",
       "      <td>0.077968</td>\n",
       "      <td>0.886579</td>\n",
       "      <td>0.975436</td>\n",
       "    </tr>\n",
       "    <tr>\n",
       "      <th>590</th>\n",
       "      <td>1577</td>\n",
       "      <td>0.943424</td>\n",
       "      <td>0.092227</td>\n",
       "      <td>0.069511</td>\n",
       "      <td>0.968863</td>\n",
       "      <td>0.010659</td>\n",
       "      <td>0.005647</td>\n",
       "      <td>0.006172</td>\n",
       "      <td>0.999914</td>\n",
       "      <td>9.945874e-01</td>\n",
       "      <td>...</td>\n",
       "      <td>0.013058</td>\n",
       "      <td>0.207168</td>\n",
       "      <td>1.000000</td>\n",
       "      <td>0.846814</td>\n",
       "      <td>0.999937</td>\n",
       "      <td>0.999909</td>\n",
       "      <td>0.940242</td>\n",
       "      <td>0.819357</td>\n",
       "      <td>0.972699</td>\n",
       "      <td>0.858531</td>\n",
       "    </tr>\n",
       "    <tr>\n",
       "      <th>591</th>\n",
       "      <td>1579</td>\n",
       "      <td>0.598283</td>\n",
       "      <td>0.113823</td>\n",
       "      <td>0.758552</td>\n",
       "      <td>0.874935</td>\n",
       "      <td>0.000050</td>\n",
       "      <td>0.107706</td>\n",
       "      <td>0.021811</td>\n",
       "      <td>0.219729</td>\n",
       "      <td>5.174725e-03</td>\n",
       "      <td>...</td>\n",
       "      <td>0.117711</td>\n",
       "      <td>0.012456</td>\n",
       "      <td>0.082577</td>\n",
       "      <td>0.549941</td>\n",
       "      <td>0.134182</td>\n",
       "      <td>0.084642</td>\n",
       "      <td>0.013839</td>\n",
       "      <td>0.035583</td>\n",
       "      <td>0.725718</td>\n",
       "      <td>0.999906</td>\n",
       "    </tr>\n",
       "    <tr>\n",
       "      <th>592</th>\n",
       "      <td>1580</td>\n",
       "      <td>0.586430</td>\n",
       "      <td>0.492505</td>\n",
       "      <td>0.473223</td>\n",
       "      <td>0.723196</td>\n",
       "      <td>0.484491</td>\n",
       "      <td>0.370801</td>\n",
       "      <td>0.003331</td>\n",
       "      <td>0.037865</td>\n",
       "      <td>9.219600e-01</td>\n",
       "      <td>...</td>\n",
       "      <td>0.004279</td>\n",
       "      <td>0.794806</td>\n",
       "      <td>0.987111</td>\n",
       "      <td>0.931296</td>\n",
       "      <td>0.885219</td>\n",
       "      <td>0.634513</td>\n",
       "      <td>0.932826</td>\n",
       "      <td>0.996249</td>\n",
       "      <td>0.317014</td>\n",
       "      <td>0.139979</td>\n",
       "    </tr>\n",
       "    <tr>\n",
       "      <th>593</th>\n",
       "      <td>1583</td>\n",
       "      <td>0.013776</td>\n",
       "      <td>0.160483</td>\n",
       "      <td>0.890053</td>\n",
       "      <td>0.318310</td>\n",
       "      <td>0.266797</td>\n",
       "      <td>0.749079</td>\n",
       "      <td>0.832287</td>\n",
       "      <td>0.174324</td>\n",
       "      <td>1.474037e-02</td>\n",
       "      <td>...</td>\n",
       "      <td>0.822329</td>\n",
       "      <td>0.999903</td>\n",
       "      <td>0.327982</td>\n",
       "      <td>0.019475</td>\n",
       "      <td>0.007771</td>\n",
       "      <td>0.031675</td>\n",
       "      <td>0.148890</td>\n",
       "      <td>0.200578</td>\n",
       "      <td>0.351657</td>\n",
       "      <td>0.085320</td>\n",
       "    </tr>\n",
       "  </tbody>\n",
       "</table>\n",
       "<p>594 rows × 100 columns</p>\n",
       "</div>"
      ],
      "text/plain": [
       "       id  Acer_Capillipes  Acer_Circinatum  Acer_Mono  Acer_Opalus  \\\n",
       "0       4         0.021394         0.011951   0.133309     0.925576   \n",
       "1       7         0.026123         0.013471   0.017680     0.103798   \n",
       "2       9         0.913394         1.000000   0.985224     0.999938   \n",
       "3      12         0.084251         0.033851   0.000048     0.002745   \n",
       "4      13         0.626413         0.326001   0.059360     0.013565   \n",
       "..    ...              ...              ...        ...          ...   \n",
       "589  1576         0.853371         1.000000   0.975610     0.999582   \n",
       "590  1577         0.943424         0.092227   0.069511     0.968863   \n",
       "591  1579         0.598283         0.113823   0.758552     0.874935   \n",
       "592  1580         0.586430         0.492505   0.473223     0.723196   \n",
       "593  1583         0.013776         0.160483   0.890053     0.318310   \n",
       "\n",
       "     Acer_Palmatum  Acer_Pictum  Acer_Platanoids  Acer_Rubrum  Acer_Rufinerve  \\\n",
       "0         0.000989     0.370268         0.927834     0.073189    1.388106e-01   \n",
       "1         0.000657     0.052147         0.465320     0.024965    4.619213e-04   \n",
       "2         0.999960     0.969351         0.997422     0.999959    9.826868e-01   \n",
       "3         0.035738     0.560388         0.968002     0.048814    4.784122e-07   \n",
       "4         0.337366     0.004972         0.013888     0.001217    9.993711e-01   \n",
       "..             ...          ...              ...          ...             ...   \n",
       "589       0.999989     0.983592         0.987956     0.999804    8.761317e-01   \n",
       "590       0.010659     0.005647         0.006172     0.999914    9.945874e-01   \n",
       "591       0.000050     0.107706         0.021811     0.219729    5.174725e-03   \n",
       "592       0.484491     0.370801         0.003331     0.037865    9.219600e-01   \n",
       "593       0.266797     0.749079         0.832287     0.174324    1.474037e-02   \n",
       "\n",
       "     ...  Salix_Fragilis  Salix_Intergra  Sorbus_Aria  Tilia_Oliveri  \\\n",
       "0    ...        0.025810        0.014751     0.825354       0.905679   \n",
       "1    ...        0.921566        0.189817     0.007977       0.996198   \n",
       "2    ...        0.008985        0.013719     0.124661       0.970723   \n",
       "3    ...        0.309879        0.004343     0.009258       0.998955   \n",
       "4    ...        0.017621        0.580464     0.961475       0.997081   \n",
       "..   ...             ...             ...          ...            ...   \n",
       "589  ...        0.067113        0.039488     0.045939       0.921866   \n",
       "590  ...        0.013058        0.207168     1.000000       0.846814   \n",
       "591  ...        0.117711        0.012456     0.082577       0.549941   \n",
       "592  ...        0.004279        0.794806     0.987111       0.931296   \n",
       "593  ...        0.822329        0.999903     0.327982       0.019475   \n",
       "\n",
       "     Tilia_Platyphyllos  Tilia_Tomentosa  Ulmus_Bergmanniana  Viburnum_Tinus  \\\n",
       "0              0.297463         0.889775            0.009878        0.998824   \n",
       "1              0.052929         0.766085            0.035153        0.004729   \n",
       "2              0.946263         0.949334            0.893054        0.084624   \n",
       "3              0.798102         0.998869            0.060318        0.032805   \n",
       "4              0.938750         0.997674            0.999228        0.744971   \n",
       "..                  ...              ...                 ...             ...   \n",
       "589            0.842517         0.829602            0.767605        0.077968   \n",
       "590            0.999937         0.999909            0.940242        0.819357   \n",
       "591            0.134182         0.084642            0.013839        0.035583   \n",
       "592            0.885219         0.634513            0.932826        0.996249   \n",
       "593            0.007771         0.031675            0.148890        0.200578   \n",
       "\n",
       "     Viburnum_x_Rhytidophylloides  Zelkova_Serrata  \n",
       "0                        0.341652         0.024547  \n",
       "1                        0.478574         0.566700  \n",
       "2                        0.817635         0.989174  \n",
       "3                        0.413761         0.995035  \n",
       "4                        0.080359         0.057815  \n",
       "..                            ...              ...  \n",
       "589                      0.886579         0.975436  \n",
       "590                      0.972699         0.858531  \n",
       "591                      0.725718         0.999906  \n",
       "592                      0.317014         0.139979  \n",
       "593                      0.351657         0.085320  \n",
       "\n",
       "[594 rows x 100 columns]"
      ]
     },
     "execution_count": 385,
     "metadata": {},
     "output_type": "execute_result"
    }
   ],
   "source": [
    "test_data_result"
   ]
  },
  {
   "cell_type": "code",
   "execution_count": 386,
   "id": "67e158e8",
   "metadata": {},
   "outputs": [],
   "source": [
    "test_data_result.to_csv(\"submission.csv\", index=False)"
   ]
  },
  {
   "cell_type": "markdown",
   "id": "406de722",
   "metadata": {},
   "source": []
  },
  {
   "cell_type": "code",
   "execution_count": null,
   "id": "3a98ea03",
   "metadata": {},
   "outputs": [],
   "source": []
  },
  {
   "cell_type": "code",
   "execution_count": null,
   "id": "ce42bff0",
   "metadata": {},
   "outputs": [],
   "source": []
  }
 ],
 "metadata": {
  "kernelspec": {
   "display_name": "Python 3 (ipykernel)",
   "language": "python",
   "name": "python3"
  },
  "language_info": {
   "codemirror_mode": {
    "name": "ipython",
    "version": 3
   },
   "file_extension": ".py",
   "mimetype": "text/x-python",
   "name": "python",
   "nbconvert_exporter": "python",
   "pygments_lexer": "ipython3",
   "version": "3.7.9"
  }
 },
 "nbformat": 4,
 "nbformat_minor": 5
}
